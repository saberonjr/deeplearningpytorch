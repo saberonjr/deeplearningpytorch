{
  "nbformat": 4,
  "nbformat_minor": 0,
  "metadata": {
    "colab": {
      "provenance": [],
      "gpuType": "T4",
      "authorship_tag": "ABX9TyP2KkZVxLX4NnNQwfjjmKvy",
      "include_colab_link": true
    },
    "kernelspec": {
      "name": "python3",
      "display_name": "Python 3"
    },
    "language_info": {
      "name": "python"
    },
    "accelerator": "GPU"
  },
  "cells": [
    {
      "cell_type": "markdown",
      "metadata": {
        "id": "view-in-github",
        "colab_type": "text"
      },
      "source": [
        "<a href=\"https://colab.research.google.com/github/saberonjr/deeplearningpytorch/blob/main/Deep_Learning_with_Pytorch.ipynb\" target=\"_parent\"><img src=\"https://colab.research.google.com/assets/colab-badge.svg\" alt=\"Open In Colab\"/></a>"
      ]
    },
    {
      "cell_type": "code",
      "execution_count": 1,
      "metadata": {
        "id": "7QE3_LTSq9tM"
      },
      "outputs": [],
      "source": [
        "import torch\n",
        "import numpy as np"
      ]
    },
    {
      "cell_type": "code",
      "source": [
        "!pip list"
      ],
      "metadata": {
        "id": "IdnL7i7krqi9"
      },
      "execution_count": null,
      "outputs": []
    },
    {
      "cell_type": "markdown",
      "source": [
        "# **Lists**"
      ],
      "metadata": {
        "id": "Vo7vhXQp113j"
      }
    },
    {
      "cell_type": "code",
      "source": [
        "my_lists = [[1,2,3],[3,4,5]]\n",
        "my_lists"
      ],
      "metadata": {
        "id": "EdYnNLGLydwY",
        "colab": {
          "base_uri": "https://localhost:8080/"
        },
        "outputId": "3b325e64-fc61-43c0-c324-7b985c125a03"
      },
      "execution_count": 2,
      "outputs": [
        {
          "output_type": "execute_result",
          "data": {
            "text/plain": [
              "[[1, 2, 3], [3, 4, 5]]"
            ]
          },
          "metadata": {},
          "execution_count": 2
        }
      ]
    },
    {
      "cell_type": "markdown",
      "source": [
        "# **Numpy Arrays**"
      ],
      "metadata": {
        "id": "fge7XnXa2Foy"
      }
    },
    {
      "cell_type": "code",
      "source": [
        "np1 = np.random.rand(3,4)\n",
        "np1.dtype\n",
        "np1"
      ],
      "metadata": {
        "colab": {
          "base_uri": "https://localhost:8080/"
        },
        "id": "rxrWnFdy2IbU",
        "outputId": "df20f615-90f9-4303-a1f6-857a4cf9b44e"
      },
      "execution_count": 7,
      "outputs": [
        {
          "output_type": "execute_result",
          "data": {
            "text/plain": [
              "array([[0.23147933, 0.67954461, 0.89124191, 0.35512277],\n",
              "       [0.016656  , 0.65467497, 0.20141353, 0.51033063],\n",
              "       [0.96720368, 0.34546164, 0.68194465, 0.54885087]])"
            ]
          },
          "metadata": {},
          "execution_count": 7
        }
      ]
    },
    {
      "cell_type": "markdown",
      "source": [
        "# **Tensors**"
      ],
      "metadata": {
        "id": "sbrJ2Zbg2V18"
      }
    },
    {
      "cell_type": "code",
      "source": [
        "tensor_2d = torch.randn(3,4)\n",
        "tensor_2d"
      ],
      "metadata": {
        "id": "HXr99SKq2XHZ",
        "outputId": "c71f0c26-a486-4396-ee3b-740783c2c53a",
        "colab": {
          "base_uri": "https://localhost:8080/"
        }
      },
      "execution_count": 4,
      "outputs": [
        {
          "output_type": "execute_result",
          "data": {
            "text/plain": [
              "tensor([[ 0.5077,  1.5557,  1.5039,  1.8857],\n",
              "        [-0.1495, -0.6424, -1.1104, -1.5818],\n",
              "        [-0.8876,  0.0903,  0.6357,  0.3788]])"
            ]
          },
          "metadata": {},
          "execution_count": 4
        }
      ]
    },
    {
      "cell_type": "code",
      "source": [
        "tensor_3d = torch.randn(2,3,4)\n",
        "tensor_3d"
      ],
      "metadata": {
        "id": "S5RnTPxK2kjL",
        "outputId": "81cee13a-3275-4e8c-dcb9-855c7a4b1d68",
        "colab": {
          "base_uri": "https://localhost:8080/"
        }
      },
      "execution_count": 8,
      "outputs": [
        {
          "output_type": "execute_result",
          "data": {
            "text/plain": [
              "tensor([[[-1.3797,  1.2762, -0.8010,  1.3789],\n",
              "         [ 0.2416, -1.6677, -0.9722,  1.9893],\n",
              "         [-0.1429,  0.1482,  0.3485, -0.1503]],\n",
              "\n",
              "        [[-1.0954, -0.0416, -1.1522,  0.4125],\n",
              "         [-0.6805, -2.6933, -2.3917,  0.0864],\n",
              "         [-1.1125,  0.5942,  0.0403, -0.5313]]])"
            ]
          },
          "metadata": {},
          "execution_count": 8
        }
      ]
    },
    {
      "cell_type": "code",
      "source": [
        "#tensor out of numpy array\n",
        "my_tensor = torch.tensor(np1)\n",
        "my_tensor"
      ],
      "metadata": {
        "id": "PheTx6rO20Qy",
        "outputId": "6ba73aab-360b-463f-b346-1cc7ccfe8151",
        "colab": {
          "base_uri": "https://localhost:8080/"
        }
      },
      "execution_count": 10,
      "outputs": [
        {
          "output_type": "execute_result",
          "data": {
            "text/plain": [
              "tensor([[0.2315, 0.6795, 0.8912, 0.3551],\n",
              "        [0.0167, 0.6547, 0.2014, 0.5103],\n",
              "        [0.9672, 0.3455, 0.6819, 0.5489]], dtype=torch.float64)"
            ]
          },
          "metadata": {},
          "execution_count": 10
        }
      ]
    },
    {
      "cell_type": "markdown",
      "source": [
        "# **Tensor Operations**"
      ],
      "metadata": {
        "id": "eMcGSIB789e0"
      }
    },
    {
      "cell_type": "code",
      "source": [
        "my_tensor = torch.arange(10)\n",
        "my_tensor"
      ],
      "metadata": {
        "id": "W3Wn-p2W86Ez",
        "outputId": "c1cb435e-51b6-4938-9eb1-5004045a50bb",
        "colab": {
          "base_uri": "https://localhost:8080/"
        }
      },
      "execution_count": 3,
      "outputs": [
        {
          "output_type": "execute_result",
          "data": {
            "text/plain": [
              "tensor([0, 1, 2, 3, 4, 5, 6, 7, 8, 9])"
            ]
          },
          "metadata": {},
          "execution_count": 3
        }
      ]
    },
    {
      "cell_type": "code",
      "source": [
        "# Reshape and View\n",
        "my_tensor = my_tensor.reshape(2,5)\n",
        "my_tensor"
      ],
      "metadata": {
        "id": "am2DVTQr9Nil",
        "outputId": "f09605b8-7594-4565-c0b4-c66bbbfc63f0",
        "colab": {
          "base_uri": "https://localhost:8080/"
        }
      },
      "execution_count": 5,
      "outputs": [
        {
          "output_type": "execute_result",
          "data": {
            "text/plain": [
              "tensor([[0, 1, 2, 3, 4],\n",
              "        [5, 6, 7, 8, 9]])"
            ]
          },
          "metadata": {},
          "execution_count": 5
        }
      ]
    },
    {
      "cell_type": "code",
      "source": [
        "my_torch2 = torch.arange(18)\n",
        "my_torch2"
      ],
      "metadata": {
        "id": "md_COK_y9eC4",
        "outputId": "bccd1181-5dec-498d-c134-dae682da85d1",
        "colab": {
          "base_uri": "https://localhost:8080/"
        }
      },
      "execution_count": 10,
      "outputs": [
        {
          "output_type": "execute_result",
          "data": {
            "text/plain": [
              "tensor([ 0,  1,  2,  3,  4,  5,  6,  7,  8,  9, 10, 11, 12, 13, 14, 15, 16, 17])"
            ]
          },
          "metadata": {},
          "execution_count": 10
        }
      ]
    },
    {
      "cell_type": "code",
      "source": [
        "my_torch2 = my_torch2.reshape(3,-1)\n",
        "my_torch2"
      ],
      "metadata": {
        "id": "vXt5tCtr9iyy",
        "outputId": "58e53082-cf49-43da-9d2a-7bcffbe06f27",
        "colab": {
          "base_uri": "https://localhost:8080/"
        }
      },
      "execution_count": 14,
      "outputs": [
        {
          "output_type": "execute_result",
          "data": {
            "text/plain": [
              "tensor([[ 0,  1,  2,  3,  4,  5],\n",
              "        [ 6,  7,  8,  9, 10, 11],\n",
              "        [12, 13, 14, 15, 16, 17]])"
            ]
          },
          "metadata": {},
          "execution_count": 14
        }
      ]
    },
    {
      "cell_type": "code",
      "source": [
        "my_torch3 = torch.arange(10)\n",
        "my_torch3"
      ],
      "metadata": {
        "id": "TIU0MXai94Ly",
        "outputId": "ff5c72ea-ed70-4440-b3fc-ae21416c1237",
        "colab": {
          "base_uri": "https://localhost:8080/"
        }
      },
      "execution_count": 15,
      "outputs": [
        {
          "output_type": "execute_result",
          "data": {
            "text/plain": [
              "tensor([0, 1, 2, 3, 4, 5, 6, 7, 8, 9])"
            ]
          },
          "metadata": {},
          "execution_count": 15
        }
      ]
    },
    {
      "cell_type": "code",
      "source": [
        "my_torch4 = my_torch3.view(2,-1)\n",
        "my_torch4"
      ],
      "metadata": {
        "id": "a1Q2cQPf99Og",
        "outputId": "378a1bdb-83c2-40ef-ab1d-f8701dbca013",
        "colab": {
          "base_uri": "https://localhost:8080/"
        }
      },
      "execution_count": 16,
      "outputs": [
        {
          "output_type": "execute_result",
          "data": {
            "text/plain": [
              "tensor([[0, 1, 2, 3, 4],\n",
              "        [5, 6, 7, 8, 9]])"
            ]
          },
          "metadata": {},
          "execution_count": 16
        }
      ]
    },
    {
      "cell_type": "code",
      "source": [
        "my_torch5 = my_torch4[:,1:4]\n",
        "my_torch5"
      ],
      "metadata": {
        "id": "1n6j7iWd-MrY",
        "outputId": "8dd9a684-6cce-4a49-b28f-14b71cbf239a",
        "colab": {
          "base_uri": "https://localhost:8080/"
        }
      },
      "execution_count": 18,
      "outputs": [
        {
          "output_type": "execute_result",
          "data": {
            "text/plain": [
              "tensor([[1, 2, 3],\n",
              "        [6, 7, 8]])"
            ]
          },
          "metadata": {},
          "execution_count": 18
        }
      ]
    },
    {
      "cell_type": "markdown",
      "source": [
        "# **Tensor Math Operation**"
      ],
      "metadata": {
        "id": "Q5tqORO-w0ze"
      }
    },
    {
      "cell_type": "code",
      "source": [
        "tensor_a = torch.tensor([1,2,3,4])\n",
        "tensor_b = torch.tensor([5,6,7,8])\n",
        "\n",
        "tensor_c = tensor_a + tensor_b\n",
        "tensor_c"
      ],
      "metadata": {
        "id": "uTnnLZncwyg-",
        "outputId": "dfb15ccf-455c-442e-d037-2ee4045f4461",
        "colab": {
          "base_uri": "https://localhost:8080/"
        }
      },
      "execution_count": 2,
      "outputs": [
        {
          "output_type": "execute_result",
          "data": {
            "text/plain": [
              "tensor([ 6,  8, 10, 12])"
            ]
          },
          "metadata": {},
          "execution_count": 2
        }
      ]
    },
    {
      "cell_type": "code",
      "source": [
        "tensor_d = torch.add(tensor_a, tensor_b)\n",
        "tensor_d"
      ],
      "metadata": {
        "id": "UZxMH9VJxR4w",
        "outputId": "ef1ae673-4d74-42bc-9455-20b2ffc3d6e5",
        "colab": {
          "base_uri": "https://localhost:8080/"
        }
      },
      "execution_count": 3,
      "outputs": [
        {
          "output_type": "execute_result",
          "data": {
            "text/plain": [
              "tensor([ 6,  8, 10, 12])"
            ]
          },
          "metadata": {},
          "execution_count": 3
        }
      ]
    },
    {
      "cell_type": "code",
      "source": [
        "tensor_e = tensor_b - tensor_a\n",
        "tensor_e"
      ],
      "metadata": {
        "id": "Ylco0Dx4xcSW",
        "outputId": "3ec9955c-d336-4fab-b20d-1d58f2d16940",
        "colab": {
          "base_uri": "https://localhost:8080/"
        }
      },
      "execution_count": 4,
      "outputs": [
        {
          "output_type": "execute_result",
          "data": {
            "text/plain": [
              "tensor([4, 4, 4, 4])"
            ]
          },
          "metadata": {},
          "execution_count": 4
        }
      ]
    },
    {
      "cell_type": "code",
      "source": [
        "tensor_f = tensor_a * tensor_b\n",
        "tensor_f"
      ],
      "metadata": {
        "id": "Umnd-HiuxoK3",
        "outputId": "d3403524-2787-4080-eb97-7a8012a4dda7",
        "colab": {
          "base_uri": "https://localhost:8080/"
        }
      },
      "execution_count": 5,
      "outputs": [
        {
          "output_type": "execute_result",
          "data": {
            "text/plain": [
              "tensor([ 5, 12, 21, 32])"
            ]
          },
          "metadata": {},
          "execution_count": 5
        }
      ]
    },
    {
      "cell_type": "code",
      "source": [
        "tensor_g = tensor_b / tensor_a\n",
        "tensor_g"
      ],
      "metadata": {
        "id": "gfXNC8fNxuEW",
        "outputId": "c86ccb6b-1ea0-4ca8-b4cc-228cf83155cb",
        "colab": {
          "base_uri": "https://localhost:8080/"
        }
      },
      "execution_count": 6,
      "outputs": [
        {
          "output_type": "execute_result",
          "data": {
            "text/plain": [
              "tensor([5.0000, 3.0000, 2.3333, 2.0000])"
            ]
          },
          "metadata": {},
          "execution_count": 6
        }
      ]
    },
    {
      "cell_type": "code",
      "source": [
        "tensor_f.dtype"
      ],
      "metadata": {
        "id": "Eq0DDkMQxyr1",
        "outputId": "baae073d-3a03-43f9-febf-ebb094506eb5",
        "colab": {
          "base_uri": "https://localhost:8080/"
        }
      },
      "execution_count": 7,
      "outputs": [
        {
          "output_type": "execute_result",
          "data": {
            "text/plain": [
              "torch.int64"
            ]
          },
          "metadata": {},
          "execution_count": 7
        }
      ]
    },
    {
      "cell_type": "code",
      "source": [
        "tensor_g.dtype"
      ],
      "metadata": {
        "id": "5R3wvAwpx2ju",
        "outputId": "c08f2804-f52b-4702-810b-919fbfd06a7f",
        "colab": {
          "base_uri": "https://localhost:8080/"
        }
      },
      "execution_count": 8,
      "outputs": [
        {
          "output_type": "execute_result",
          "data": {
            "text/plain": [
              "torch.float32"
            ]
          },
          "metadata": {},
          "execution_count": 8
        }
      ]
    },
    {
      "cell_type": "code",
      "source": [
        "tensor_h = tensor_b % tensor_a\n",
        "tensor_h"
      ],
      "metadata": {
        "id": "VQGG7QsKx4_W",
        "outputId": "0bd0160f-ca58-47eb-97df-6d1b860ebe11",
        "colab": {
          "base_uri": "https://localhost:8080/"
        }
      },
      "execution_count": 9,
      "outputs": [
        {
          "output_type": "execute_result",
          "data": {
            "text/plain": [
              "tensor([0, 0, 1, 0])"
            ]
          },
          "metadata": {},
          "execution_count": 9
        }
      ]
    },
    {
      "cell_type": "code",
      "source": [
        "tensor_i = tensor_a.pow(tensor_b)\n",
        "tensor_i"
      ],
      "metadata": {
        "id": "jp5Ow96jx_QS",
        "outputId": "fb811159-95ea-40d6-a8da-5b192f9e3c38",
        "colab": {
          "base_uri": "https://localhost:8080/"
        }
      },
      "execution_count": 11,
      "outputs": [
        {
          "output_type": "execute_result",
          "data": {
            "text/plain": [
              "tensor([    1,    64,  2187, 65536])"
            ]
          },
          "metadata": {},
          "execution_count": 11
        }
      ]
    },
    {
      "cell_type": "code",
      "source": [
        "#Reassignment\n",
        "tensor_a.add_(tensor_b)\n",
        "tensor_a"
      ],
      "metadata": {
        "id": "1KfpYAupyKSf",
        "outputId": "b39e5f9e-7fe3-40bb-a813-a9464c2e48bd",
        "colab": {
          "base_uri": "https://localhost:8080/"
        }
      },
      "execution_count": 12,
      "outputs": [
        {
          "output_type": "execute_result",
          "data": {
            "text/plain": [
              "tensor([ 6,  8, 10, 12])"
            ]
          },
          "metadata": {},
          "execution_count": 12
        }
      ]
    }
  ]
}